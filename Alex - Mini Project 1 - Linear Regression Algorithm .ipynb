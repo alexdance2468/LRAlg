{
 "cells": [
  {
   "cell_type": "markdown",
   "metadata": {
    "colab_type": "text",
    "id": "jZSSKjAWXd3j"
   },
   "source": [
    "<div>\n",
    "<img src=https://www.whatbroketheinternet.com/wp-content/uploads/2020/05/technologyimage.jpg width=\"300\">\n",
    "</div>"
   ]
  },
  {
   "cell_type": "markdown",
   "metadata": {
    "colab_type": "text",
    "id": "twocr7v8Xd3l"
   },
   "source": [
    "## Alex Mini Project 1 \n",
    "Linear Regression Algorithm\n",
    "\n"
   ]
  },
  {
   "cell_type": "markdown",
   "metadata": {},
   "source": [
    "By Alex - started 19/05/20 Finished 23/05/20 (with suggested additions on 25/05/2020)"
   ]
  },
  {
   "cell_type": "code",
   "execution_count": 1,
   "metadata": {
    "colab": {},
    "colab_type": "code",
    "id": "hejYh49cXd3n"
   },
   "outputs": [],
   "source": [
    "import pandas as pd\n",
    "import numpy as np\n",
    "import pandas as pd\n",
    "import sklearn.metrics\n",
    "import matplotlib.pyplot as plt\n",
    "\n",
    "%matplotlib inline"
   ]
  },
  {
   "cell_type": "markdown",
   "metadata": {},
   "source": [
    "CHOOSE DATA SET"
   ]
  },
  {
   "cell_type": "code",
   "execution_count": 2,
   "metadata": {},
   "outputs": [
    {
     "data": {
      "text/html": [
       "<div>\n",
       "<style scoped>\n",
       "    .dataframe tbody tr th:only-of-type {\n",
       "        vertical-align: middle;\n",
       "    }\n",
       "\n",
       "    .dataframe tbody tr th {\n",
       "        vertical-align: top;\n",
       "    }\n",
       "\n",
       "    .dataframe thead th {\n",
       "        text-align: right;\n",
       "    }\n",
       "</style>\n",
       "<table border=\"1\" class=\"dataframe\">\n",
       "  <thead>\n",
       "    <tr style=\"text-align: right;\">\n",
       "      <th></th>\n",
       "      <th>instant</th>\n",
       "      <th>dteday</th>\n",
       "      <th>season</th>\n",
       "      <th>yr</th>\n",
       "      <th>mnth</th>\n",
       "      <th>hr</th>\n",
       "      <th>holiday</th>\n",
       "      <th>weekday</th>\n",
       "      <th>workingday</th>\n",
       "      <th>weathersit</th>\n",
       "      <th>temp</th>\n",
       "      <th>atemp</th>\n",
       "      <th>hum</th>\n",
       "      <th>windspeed</th>\n",
       "      <th>casual</th>\n",
       "      <th>registered</th>\n",
       "      <th>cnt</th>\n",
       "    </tr>\n",
       "  </thead>\n",
       "  <tbody>\n",
       "    <tr>\n",
       "      <th>0</th>\n",
       "      <td>1</td>\n",
       "      <td>2011-01-01</td>\n",
       "      <td>1</td>\n",
       "      <td>0</td>\n",
       "      <td>1</td>\n",
       "      <td>0</td>\n",
       "      <td>0</td>\n",
       "      <td>6</td>\n",
       "      <td>0</td>\n",
       "      <td>1</td>\n",
       "      <td>0.24</td>\n",
       "      <td>0.2879</td>\n",
       "      <td>0.81</td>\n",
       "      <td>0.0</td>\n",
       "      <td>3</td>\n",
       "      <td>13</td>\n",
       "      <td>16</td>\n",
       "    </tr>\n",
       "    <tr>\n",
       "      <th>1</th>\n",
       "      <td>2</td>\n",
       "      <td>2011-01-01</td>\n",
       "      <td>1</td>\n",
       "      <td>0</td>\n",
       "      <td>1</td>\n",
       "      <td>1</td>\n",
       "      <td>0</td>\n",
       "      <td>6</td>\n",
       "      <td>0</td>\n",
       "      <td>1</td>\n",
       "      <td>0.22</td>\n",
       "      <td>0.2727</td>\n",
       "      <td>0.80</td>\n",
       "      <td>0.0</td>\n",
       "      <td>8</td>\n",
       "      <td>32</td>\n",
       "      <td>40</td>\n",
       "    </tr>\n",
       "    <tr>\n",
       "      <th>2</th>\n",
       "      <td>3</td>\n",
       "      <td>2011-01-01</td>\n",
       "      <td>1</td>\n",
       "      <td>0</td>\n",
       "      <td>1</td>\n",
       "      <td>2</td>\n",
       "      <td>0</td>\n",
       "      <td>6</td>\n",
       "      <td>0</td>\n",
       "      <td>1</td>\n",
       "      <td>0.22</td>\n",
       "      <td>0.2727</td>\n",
       "      <td>0.80</td>\n",
       "      <td>0.0</td>\n",
       "      <td>5</td>\n",
       "      <td>27</td>\n",
       "      <td>32</td>\n",
       "    </tr>\n",
       "    <tr>\n",
       "      <th>3</th>\n",
       "      <td>4</td>\n",
       "      <td>2011-01-01</td>\n",
       "      <td>1</td>\n",
       "      <td>0</td>\n",
       "      <td>1</td>\n",
       "      <td>3</td>\n",
       "      <td>0</td>\n",
       "      <td>6</td>\n",
       "      <td>0</td>\n",
       "      <td>1</td>\n",
       "      <td>0.24</td>\n",
       "      <td>0.2879</td>\n",
       "      <td>0.75</td>\n",
       "      <td>0.0</td>\n",
       "      <td>3</td>\n",
       "      <td>10</td>\n",
       "      <td>13</td>\n",
       "    </tr>\n",
       "    <tr>\n",
       "      <th>4</th>\n",
       "      <td>5</td>\n",
       "      <td>2011-01-01</td>\n",
       "      <td>1</td>\n",
       "      <td>0</td>\n",
       "      <td>1</td>\n",
       "      <td>4</td>\n",
       "      <td>0</td>\n",
       "      <td>6</td>\n",
       "      <td>0</td>\n",
       "      <td>1</td>\n",
       "      <td>0.24</td>\n",
       "      <td>0.2879</td>\n",
       "      <td>0.75</td>\n",
       "      <td>0.0</td>\n",
       "      <td>0</td>\n",
       "      <td>1</td>\n",
       "      <td>1</td>\n",
       "    </tr>\n",
       "  </tbody>\n",
       "</table>\n",
       "</div>"
      ],
      "text/plain": [
       "   instant      dteday  season  yr  mnth  hr  holiday  weekday  workingday  \\\n",
       "0        1  2011-01-01       1   0     1   0        0        6           0   \n",
       "1        2  2011-01-01       1   0     1   1        0        6           0   \n",
       "2        3  2011-01-01       1   0     1   2        0        6           0   \n",
       "3        4  2011-01-01       1   0     1   3        0        6           0   \n",
       "4        5  2011-01-01       1   0     1   4        0        6           0   \n",
       "\n",
       "   weathersit  temp   atemp   hum  windspeed  casual  registered  cnt  \n",
       "0           1  0.24  0.2879  0.81        0.0       3          13   16  \n",
       "1           1  0.22  0.2727  0.80        0.0       8          32   40  \n",
       "2           1  0.22  0.2727  0.80        0.0       5          27   32  \n",
       "3           1  0.24  0.2879  0.75        0.0       3          10   13  \n",
       "4           1  0.24  0.2879  0.75        0.0       0           1    1  "
      ]
     },
     "execution_count": 2,
     "metadata": {},
     "output_type": "execute_result"
    }
   ],
   "source": [
    "bikes = pd.read_csv(r'C:/Users/alexd/Alex Folder 1/Module 3/bikeshare.csv')\n",
    "bikes.head()"
   ]
  },
  {
   "cell_type": "code",
   "execution_count": 3,
   "metadata": {
    "scrolled": true
   },
   "outputs": [
    {
     "data": {
      "text/html": [
       "<div>\n",
       "<style scoped>\n",
       "    .dataframe tbody tr th:only-of-type {\n",
       "        vertical-align: middle;\n",
       "    }\n",
       "\n",
       "    .dataframe tbody tr th {\n",
       "        vertical-align: top;\n",
       "    }\n",
       "\n",
       "    .dataframe thead th {\n",
       "        text-align: right;\n",
       "    }\n",
       "</style>\n",
       "<table border=\"1\" class=\"dataframe\">\n",
       "  <thead>\n",
       "    <tr style=\"text-align: right;\">\n",
       "      <th></th>\n",
       "      <th>Suburb</th>\n",
       "      <th>Address</th>\n",
       "      <th>Rooms</th>\n",
       "      <th>Type</th>\n",
       "      <th>Price</th>\n",
       "      <th>Method</th>\n",
       "      <th>SellerG</th>\n",
       "      <th>Date</th>\n",
       "      <th>Distance</th>\n",
       "      <th>Postcode</th>\n",
       "      <th>...</th>\n",
       "      <th>Bathroom</th>\n",
       "      <th>Car</th>\n",
       "      <th>Landsize</th>\n",
       "      <th>BuildingArea</th>\n",
       "      <th>YearBuilt</th>\n",
       "      <th>CouncilArea</th>\n",
       "      <th>Lattitude</th>\n",
       "      <th>Longtitude</th>\n",
       "      <th>Regionname</th>\n",
       "      <th>Propertycount</th>\n",
       "    </tr>\n",
       "  </thead>\n",
       "  <tbody>\n",
       "    <tr>\n",
       "      <th>0</th>\n",
       "      <td>Abbotsford</td>\n",
       "      <td>85 Turner St</td>\n",
       "      <td>2</td>\n",
       "      <td>h</td>\n",
       "      <td>1480000.0</td>\n",
       "      <td>S</td>\n",
       "      <td>Biggin</td>\n",
       "      <td>3/12/2016</td>\n",
       "      <td>2.5</td>\n",
       "      <td>3067.0</td>\n",
       "      <td>...</td>\n",
       "      <td>1.0</td>\n",
       "      <td>1.0</td>\n",
       "      <td>202.0</td>\n",
       "      <td>NaN</td>\n",
       "      <td>NaN</td>\n",
       "      <td>Yarra</td>\n",
       "      <td>-37.7996</td>\n",
       "      <td>144.9984</td>\n",
       "      <td>Northern Metropolitan</td>\n",
       "      <td>4019.0</td>\n",
       "    </tr>\n",
       "    <tr>\n",
       "      <th>1</th>\n",
       "      <td>Abbotsford</td>\n",
       "      <td>25 Bloomburg St</td>\n",
       "      <td>2</td>\n",
       "      <td>h</td>\n",
       "      <td>1035000.0</td>\n",
       "      <td>S</td>\n",
       "      <td>Biggin</td>\n",
       "      <td>4/02/2016</td>\n",
       "      <td>2.5</td>\n",
       "      <td>3067.0</td>\n",
       "      <td>...</td>\n",
       "      <td>1.0</td>\n",
       "      <td>0.0</td>\n",
       "      <td>156.0</td>\n",
       "      <td>79.0</td>\n",
       "      <td>1900.0</td>\n",
       "      <td>Yarra</td>\n",
       "      <td>-37.8079</td>\n",
       "      <td>144.9934</td>\n",
       "      <td>Northern Metropolitan</td>\n",
       "      <td>4019.0</td>\n",
       "    </tr>\n",
       "    <tr>\n",
       "      <th>2</th>\n",
       "      <td>Abbotsford</td>\n",
       "      <td>5 Charles St</td>\n",
       "      <td>3</td>\n",
       "      <td>h</td>\n",
       "      <td>1465000.0</td>\n",
       "      <td>SP</td>\n",
       "      <td>Biggin</td>\n",
       "      <td>4/03/2017</td>\n",
       "      <td>2.5</td>\n",
       "      <td>3067.0</td>\n",
       "      <td>...</td>\n",
       "      <td>2.0</td>\n",
       "      <td>0.0</td>\n",
       "      <td>134.0</td>\n",
       "      <td>150.0</td>\n",
       "      <td>1900.0</td>\n",
       "      <td>Yarra</td>\n",
       "      <td>-37.8093</td>\n",
       "      <td>144.9944</td>\n",
       "      <td>Northern Metropolitan</td>\n",
       "      <td>4019.0</td>\n",
       "    </tr>\n",
       "    <tr>\n",
       "      <th>3</th>\n",
       "      <td>Abbotsford</td>\n",
       "      <td>40 Federation La</td>\n",
       "      <td>3</td>\n",
       "      <td>h</td>\n",
       "      <td>850000.0</td>\n",
       "      <td>PI</td>\n",
       "      <td>Biggin</td>\n",
       "      <td>4/03/2017</td>\n",
       "      <td>2.5</td>\n",
       "      <td>3067.0</td>\n",
       "      <td>...</td>\n",
       "      <td>2.0</td>\n",
       "      <td>1.0</td>\n",
       "      <td>94.0</td>\n",
       "      <td>NaN</td>\n",
       "      <td>NaN</td>\n",
       "      <td>Yarra</td>\n",
       "      <td>-37.7969</td>\n",
       "      <td>144.9969</td>\n",
       "      <td>Northern Metropolitan</td>\n",
       "      <td>4019.0</td>\n",
       "    </tr>\n",
       "    <tr>\n",
       "      <th>4</th>\n",
       "      <td>Abbotsford</td>\n",
       "      <td>55a Park St</td>\n",
       "      <td>4</td>\n",
       "      <td>h</td>\n",
       "      <td>1600000.0</td>\n",
       "      <td>VB</td>\n",
       "      <td>Nelson</td>\n",
       "      <td>4/06/2016</td>\n",
       "      <td>2.5</td>\n",
       "      <td>3067.0</td>\n",
       "      <td>...</td>\n",
       "      <td>1.0</td>\n",
       "      <td>2.0</td>\n",
       "      <td>120.0</td>\n",
       "      <td>142.0</td>\n",
       "      <td>2014.0</td>\n",
       "      <td>Yarra</td>\n",
       "      <td>-37.8072</td>\n",
       "      <td>144.9941</td>\n",
       "      <td>Northern Metropolitan</td>\n",
       "      <td>4019.0</td>\n",
       "    </tr>\n",
       "  </tbody>\n",
       "</table>\n",
       "<p>5 rows × 21 columns</p>\n",
       "</div>"
      ],
      "text/plain": [
       "       Suburb           Address  Rooms Type      Price Method SellerG  \\\n",
       "0  Abbotsford      85 Turner St      2    h  1480000.0      S  Biggin   \n",
       "1  Abbotsford   25 Bloomburg St      2    h  1035000.0      S  Biggin   \n",
       "2  Abbotsford      5 Charles St      3    h  1465000.0     SP  Biggin   \n",
       "3  Abbotsford  40 Federation La      3    h   850000.0     PI  Biggin   \n",
       "4  Abbotsford       55a Park St      4    h  1600000.0     VB  Nelson   \n",
       "\n",
       "        Date  Distance  Postcode  ...  Bathroom  Car  Landsize  BuildingArea  \\\n",
       "0  3/12/2016       2.5    3067.0  ...       1.0  1.0     202.0           NaN   \n",
       "1  4/02/2016       2.5    3067.0  ...       1.0  0.0     156.0          79.0   \n",
       "2  4/03/2017       2.5    3067.0  ...       2.0  0.0     134.0         150.0   \n",
       "3  4/03/2017       2.5    3067.0  ...       2.0  1.0      94.0           NaN   \n",
       "4  4/06/2016       2.5    3067.0  ...       1.0  2.0     120.0         142.0   \n",
       "\n",
       "   YearBuilt  CouncilArea Lattitude  Longtitude             Regionname  \\\n",
       "0        NaN        Yarra  -37.7996    144.9984  Northern Metropolitan   \n",
       "1     1900.0        Yarra  -37.8079    144.9934  Northern Metropolitan   \n",
       "2     1900.0        Yarra  -37.8093    144.9944  Northern Metropolitan   \n",
       "3        NaN        Yarra  -37.7969    144.9969  Northern Metropolitan   \n",
       "4     2014.0        Yarra  -37.8072    144.9941  Northern Metropolitan   \n",
       "\n",
       "  Propertycount  \n",
       "0        4019.0  \n",
       "1        4019.0  \n",
       "2        4019.0  \n",
       "3        4019.0  \n",
       "4        4019.0  \n",
       "\n",
       "[5 rows x 21 columns]"
      ]
     },
     "execution_count": 3,
     "metadata": {},
     "output_type": "execute_result"
    }
   ],
   "source": [
    "melb = pd.read_csv(r'C:/Users/alexd/Alex Folder 1/Module 3/melb_data.csv')\n",
    "melb.head()"
   ]
  },
  {
   "cell_type": "markdown",
   "metadata": {},
   "source": [
    "CHOOSE X AND Y"
   ]
  },
  {
   "cell_type": "code",
   "execution_count": 4,
   "metadata": {},
   "outputs": [],
   "source": [
    "X = bikes['atemp']\n",
    "Y = bikes['temp']\n",
    "datatouse = bikes\n",
    "\n",
    "\n",
    "#X = melb['Bathroom']\n",
    "#Y = melb['Rooms']\n",
    "#datatouse = melb"
   ]
  },
  {
   "cell_type": "markdown",
   "metadata": {},
   "source": [
    "INITIALLY LOOK AT THE DATA"
   ]
  },
  {
   "cell_type": "code",
   "execution_count": 5,
   "metadata": {},
   "outputs": [
    {
     "name": "stdout",
     "output_type": "stream",
     "text": [
      "INIIIAL RESULTS\n",
      "Mean of X :  0.4757751021347581\n",
      "Mean of Y :  0.4969871684216586\n",
      " \n"
     ]
    },
    {
     "data": {
      "text/plain": [
       "<matplotlib.collections.PathCollection at 0x22814500088>"
      ]
     },
     "execution_count": 5,
     "metadata": {},
     "output_type": "execute_result"
    },
    {
     "data": {
      "image/png": "[encoded data removed]",
      "text/plain": [
       "<Figure size 432x288 with 1 Axes>"
      ]
     },
     "metadata": {
      "needs_background": "light"
     },
     "output_type": "display_data"
    }
   ],
   "source": [
    "#xmean = bikes['temp'].mean()\n",
    "#ymean = bikes['atemp'].mean()\n",
    "\n",
    "xmean = X.mean()\n",
    "ymean = Y.mean()\n",
    "print(\"INIIIAL RESULTS\")\n",
    "print(\"Mean of X : \", xmean)\n",
    "print(\"Mean of Y : \", ymean)\n",
    "print(\" \")\n",
    "plt.scatter(X, Y) # extra stuff from Alex"
   ]
  },
  {
   "cell_type": "markdown",
   "metadata": {},
   "source": [
    "CHOOSE INITIAL STARTING POINTS"
   ]
  },
  {
   "cell_type": "code",
   "execution_count": 6,
   "metadata": {},
   "outputs": [],
   "source": [
    "minitial = 0.1 #choosing aslope that is too low a slope (eg if think slope should be 1 then choose 0.5)\n",
    "maddfactor = 0.1\n",
    "mtoofar=3 # Choosing aslope that is too HIGH a slope (eg if think slope should be 1 then choose 2)\n",
    "\n",
    "ystart = -0.5 \n",
    "yaddfactor = 0.1\n",
    "ytoofar = 2 # matching x mean"
   ]
  },
  {
   "cell_type": "markdown",
   "metadata": {},
   "source": [
    "A FEW FUNCTIONS"
   ]
  },
  {
   "cell_type": "code",
   "execution_count": 7,
   "metadata": {},
   "outputs": [],
   "source": [
    "def calculateRsquaredB (df, Xc,Yc,Bzc, mc):\n",
    "    ymean = np.mean(Yc)\n",
    "    xmean = np.mean(Xc) \n",
    "    yhat = Bzc + (mc * Xc)\n",
    "    SSresidual= pow((Yc - yhat),2)    \n",
    "    SSresidualTotal=sum(SSresidual)\n",
    "    SStot = sum(pow((Yc - ymean), 2))\n",
    "    Rsquared = 1 - (SSresidualTotal /SStot )\n",
    "    return(Rsquared)"
   ]
  },
  {
   "cell_type": "code",
   "execution_count": 8,
   "metadata": {},
   "outputs": [],
   "source": [
    "def CalculateBNil (mc, yc, xmeanc):\n",
    "    Beet = yc - (xmeanc * mc)\n",
    "    return(Beet)"
   ]
  },
  {
   "cell_type": "code",
   "execution_count": 9,
   "metadata": {},
   "outputs": [],
   "source": [
    "def StopBecauseR (OneAgo, ThisGo):\n",
    "    if (OneAgo < ThisGo):\n",
    "        Stop_as_R = False\n",
    "    else:\n",
    "         Stop_as_R = True\n",
    "    return(Stop_as_R)\n",
    "    #return(False)  # used to check impact of this function"
   ]
  },
  {
   "cell_type": "markdown",
   "metadata": {},
   "source": [
    "MAIN CODE"
   ]
  },
  {
   "cell_type": "code",
   "execution_count": 10,
   "metadata": {},
   "outputs": [
    {
     "name": "stdout",
     "output_type": "stream",
     "text": [
      " \n",
      "Result1  -21.53282399869236 yuse  -0.4 mchange  0.2 Bee  -0.4475775102134758 i(m)  2 j(y)  1 BestR  -10000000\n",
      "------Besttttttttttt\n",
      " \n",
      "Result1  -19.139358085118975 yuse  -0.4 mchange  0.30000000000000004 Bee  -0.4475775102134758 i(m)  3 j(y)  1 BestR  -21.53282399869236\n",
      "------Besttttttttttt\n",
      " \n",
      "Result1  -16.883930057963017 yuse  -0.4 mchange  0.4 Bee  -0.4475775102134758 i(m)  4 j(y)  1 BestR  -19.139358085118975\n",
      "------Besttttttttttt\n",
      " \n",
      "Result1  -14.766539917229546 yuse  -0.4 mchange  0.5 Bee  -0.4475775102134758 i(m)  5 j(y)  1 BestR  -16.883930057963017\n",
      "------Besttttttttttt\n",
      " \n",
      "Result1  -12.787187662917198 yuse  -0.4 mchange  0.6 Bee  -0.4475775102134758 i(m)  6 j(y)  1 BestR  -14.766539917229546\n",
      "------Besttttttttttt\n",
      " \n",
      "Result1  -10.945873295025002 yuse  -0.4 mchange  0.7 Bee  -0.4475775102134758 i(m)  7 j(y)  1 BestR  -12.787187662917198\n",
      "------Besttttttttttt\n",
      " \n",
      "Result1  -9.242596813553835 yuse  -0.4 mchange  0.7999999999999999 Bee  -0.4475775102134758 i(m)  8 j(y)  1 BestR  -10.945873295025002\n",
      "------Besttttttttttt\n",
      " \n",
      "Result1  -7.677358218502087 yuse  -0.4 mchange  0.8999999999999999 Bee  -0.4475775102134758 i(m)  9 j(y)  1 BestR  -9.242596813553835\n",
      "------Besttttttttttt\n",
      " \n",
      "Result1  -6.25015750987235 yuse  -0.4 mchange  0.9999999999999999 Bee  -0.4475775102134758 i(m)  10 j(y)  1 BestR  -7.677358218502087\n",
      "------Besttttttttttt\n",
      " \n",
      "Result1  -4.960994687663458 yuse  -0.4 mchange  1.0999999999999999 Bee  -0.4475775102134758 i(m)  11 j(y)  1 BestR  -6.25015750987235\n",
      "------Besttttttttttt\n",
      " \n",
      "Result1  -3.8098697518748263 yuse  -0.4 mchange  1.2 Bee  -0.4475775102134758 i(m)  12 j(y)  1 BestR  -4.960994687663458\n",
      "------Besttttttttttt\n",
      " \n",
      "Result1  -2.796782702506971 yuse  -0.4 mchange  1.3 Bee  -0.4475775102134758 i(m)  13 j(y)  1 BestR  -3.8098697518748263\n",
      "------Besttttttttttt\n",
      " \n",
      "Result1  -1.9217335395596429 yuse  -0.4 mchange  1.4000000000000001 Bee  -0.4475775102134758 i(m)  14 j(y)  1 BestR  -2.796782702506971\n",
      "------Besttttttttttt\n",
      " \n",
      "Result1  -1.1847222630332914 yuse  -0.4 mchange  1.5000000000000002 Bee  -0.4475775102134758 i(m)  15 j(y)  1 BestR  -1.9217335395596429\n",
      "------Besttttttttttt\n",
      " \n",
      "Result1  -0.585748872927766 yuse  -0.4 mchange  1.6000000000000003 Bee  -0.4475775102134758 i(m)  16 j(y)  1 BestR  -1.1847222630332914\n",
      "------Besttttttttttt\n",
      " \n",
      "Result1  -0.12481336924290432 yuse  -0.4 mchange  1.7000000000000004 Bee  -0.4475775102134758 i(m)  17 j(y)  1 BestR  -0.585748872927766\n",
      "------Besttttttttttt\n",
      " \n",
      "Result1  0.1980842480211974 yuse  -0.4 mchange  1.8000000000000005 Bee  -0.4475775102134758 i(m)  18 j(y)  1 BestR  -0.12481336924290432\n",
      "------Besttttttttttt\n",
      " \n",
      "Result1  0.38294397886453935 yuse  -0.4 mchange  1.9000000000000006 Bee  -0.4475775102134758 i(m)  19 j(y)  1 BestR  0.1980842480211974\n",
      "------Besttttttttttt\n",
      " \n",
      "Result1  0.4297658232872126 yuse  -0.4 mchange  2.0000000000000004 Bee  -0.4475775102134758 i(m)  20 j(y)  1 BestR  0.38294397886453935\n",
      "------Besttttttttttt\n",
      " \n",
      "Result1  0.33854978128904145 yuse  -0.4 mchange  2.1000000000000005 Bee  -0.4475775102134758 i(m)  21 j(y)  1 BestR  0.4297658232872126\n",
      " \n",
      "Result1  -16.963866074281924 yuse  -0.30000000000000004 mchange  0.2 Bee  -0.3475775102134758 i(m)  2 j(y)  2 BestR  0.4297658232872126\n",
      " \n",
      "Result1  -14.82705061589556 yuse  -0.30000000000000004 mchange  0.30000000000000004 Bee  -0.3475775102134758 i(m)  3 j(y)  2 BestR  0.4297658232872126\n",
      " \n",
      "Result1  -12.828273043928087 yuse  -0.30000000000000004 mchange  0.4 Bee  -0.3475775102134758 i(m)  4 j(y)  2 BestR  0.4297658232872126\n",
      " \n",
      "Result1  -10.967533358383008 yuse  -0.30000000000000004 mchange  0.5 Bee  -0.3475775102134758 i(m)  5 j(y)  2 BestR  0.4297658232872126\n",
      " \n",
      "Result1  -9.244831559257662 yuse  -0.30000000000000004 mchange  0.6 Bee  -0.3475775102134758 i(m)  6 j(y)  2 BestR  0.4297658232872126\n",
      " \n",
      "Result1  -7.660167646552825 yuse  -0.30000000000000004 mchange  0.7 Bee  -0.3475775102134758 i(m)  7 j(y)  2 BestR  0.4297658232872126\n",
      " \n",
      "Result1  -6.213541620268528 yuse  -0.30000000000000004 mchange  0.7999999999999999 Bee  -0.3475775102134758 i(m)  8 j(y)  2 BestR  0.4297658232872126\n",
      " \n",
      "Result1  -4.9049534804057275 yuse  -0.30000000000000004 mchange  0.8999999999999999 Bee  -0.3475775102134758 i(m)  9 j(y)  2 BestR  0.4297658232872126\n",
      " \n",
      "Result1  -3.7344032269635763 yuse  -0.30000000000000004 mchange  0.9999999999999999 Bee  -0.3475775102134758 i(m)  10 j(y)  2 BestR  0.4297658232872126\n",
      " \n",
      "Result1  -2.701890859941876 yuse  -0.30000000000000004 mchange  1.0999999999999999 Bee  -0.3475775102134758 i(m)  11 j(y)  2 BestR  0.4297658232872126\n",
      " \n",
      "Result1  -1.807416379341051 yuse  -0.30000000000000004 mchange  1.2 Bee  -0.3475775102134758 i(m)  12 j(y)  2 BestR  0.4297658232872126\n",
      " \n",
      "Result1  -1.050979785161235 yuse  -0.30000000000000004 mchange  1.3 Bee  -0.3475775102134758 i(m)  13 j(y)  2 BestR  0.4297658232872126\n",
      " \n",
      "Result1  -0.4325810774018308 yuse  -0.30000000000000004 mchange  1.4000000000000001 Bee  -0.3475775102134758 i(m)  14 j(y)  2 BestR  0.4297658232872126\n",
      " \n",
      "Result1  0.04777974393680484 yuse  -0.30000000000000004 mchange  1.5000000000000002 Bee  -0.3475775102134758 i(m)  15 j(y)  2 BestR  0.4297658232872126\n",
      " \n",
      "Result1  0.3901026788546115 yuse  -0.30000000000000004 mchange  1.6000000000000003 Bee  -0.3475775102134758 i(m)  16 j(y)  2 BestR  0.4297658232872126\n",
      " \n",
      "Result1  0.5943877273517307 yuse  -0.30000000000000004 mchange  1.7000000000000004 Bee  -0.3475775102134758 i(m)  17 j(y)  2 BestR  0.4297658232872126\n",
      "------Besttttttttttt\n",
      " \n",
      "Result1  0.6606348894280839 yuse  -0.30000000000000004 mchange  1.8000000000000005 Bee  -0.3475775102134758 i(m)  18 j(y)  2 BestR  0.5943877273517307\n",
      "------Besttttttttttt\n",
      " \n",
      "Result1  0.5888441650836975 yuse  -0.30000000000000004 mchange  1.9000000000000006 Bee  -0.3475775102134758 i(m)  19 j(y)  2 BestR  0.6606348894280839\n",
      " \n",
      "Result1  -12.934344648410372 yuse  -0.20000000000000004 mchange  0.2 Bee  -0.24757751021347585 i(m)  2 j(y)  3 BestR  0.6606348894280839\n",
      " \n",
      "Result1  -11.054179645212422 yuse  -0.20000000000000004 mchange  0.30000000000000004 Bee  -0.24757751021347585 i(m)  3 j(y)  3 BestR  0.6606348894280839\n",
      " \n",
      "Result1  -9.312052528432238 yuse  -0.20000000000000004 mchange  0.4 Bee  -0.24757751021347585 i(m)  4 j(y)  3 BestR  0.6606348894280839\n",
      " \n",
      "Result1  -7.707963298074368 yuse  -0.20000000000000004 mchange  0.5 Bee  -0.24757751021347585 i(m)  5 j(y)  3 BestR  0.6606348894280839\n",
      " \n",
      "Result1  -6.241911954136968 yuse  -0.20000000000000004 mchange  0.6 Bee  -0.24757751021347585 i(m)  6 j(y)  3 BestR  0.6606348894280839\n",
      " \n",
      "Result1  -4.9138984966199235 yuse  -0.20000000000000004 mchange  0.7 Bee  -0.24757751021347585 i(m)  7 j(y)  3 BestR  0.6606348894280839\n",
      " \n",
      "Result1  -3.7239229255237793 yuse  -0.20000000000000004 mchange  0.7999999999999999 Bee  -0.24757751021347585 i(m)  8 j(y)  3 BestR  0.6606348894280839\n",
      " \n",
      "Result1  -2.671985240848521 yuse  -0.20000000000000004 mchange  0.8999999999999999 Bee  -0.24757751021347585 i(m)  9 j(y)  3 BestR  0.6606348894280839\n",
      " \n",
      "Result1  -1.7580854425940822 yuse  -0.20000000000000004 mchange  0.9999999999999999 Bee  -0.24757751021347585 i(m)  10 j(y)  3 BestR  0.6606348894280839\n",
      " \n",
      "Result1  -0.9822235307601301 yuse  -0.20000000000000004 mchange  1.0999999999999999 Bee  -0.24757751021347585 i(m)  11 j(y)  3 BestR  0.6606348894280839\n",
      " \n",
      "Result1  -0.3443995053470996 yuse  -0.20000000000000004 mchange  1.2 Bee  -0.24757751021347585 i(m)  12 j(y)  3 BestR  0.6606348894280839\n",
      " \n",
      "Result1  0.15538663364514493 yuse  -0.20000000000000004 mchange  1.3 Bee  -0.24757751021347585 i(m)  13 j(y)  3 BestR  0.6606348894280839\n",
      " \n",
      "Result1  0.5171348862167617 yuse  -0.20000000000000004 mchange  1.4000000000000001 Bee  -0.24757751021347585 i(m)  14 j(y)  3 BestR  0.6606348894280839\n",
      " \n",
      "Result1  0.740845252367603 yuse  -0.20000000000000004 mchange  1.5000000000000002 Bee  -0.24757751021347585 i(m)  15 j(y)  3 BestR  0.6606348894280839\n",
      "------Besttttttttttt\n",
      " \n",
      "Result1  0.8265177320977083 yuse  -0.20000000000000004 mchange  1.6000000000000003 Bee  -0.24757751021347585 i(m)  16 j(y)  3 BestR  0.740845252367603\n",
      "------Besttttttttttt\n",
      " \n",
      "Result1  0.7741523254070728 yuse  -0.20000000000000004 mchange  1.7000000000000004 Bee  -0.24757751021347585 i(m)  17 j(y)  3 BestR  0.8265177320977083\n",
      " \n",
      "Result1  -9.444259721079106 yuse  -0.10000000000000003 mchange  0.2 Bee  -0.14757751021347584 i(m)  2 j(y)  4 BestR  0.8265177320977083\n",
      " \n",
      "Result1  -7.8207451730666016 yuse  -0.10000000000000003 mchange  0.30000000000000004 Bee  -0.14757751021347584 i(m)  3 j(y)  4 BestR  0.8265177320977083\n",
      " \n",
      "Result1  -6.335268511475612 yuse  -0.10000000000000003 mchange  0.4 Bee  -0.14757751021347584 i(m)  4 j(y)  4 BestR  0.8265177320977083\n",
      " \n",
      "Result1  -4.987829736305309 yuse  -0.10000000000000003 mchange  0.5 Bee  -0.14757751021347584 i(m)  5 j(y)  4 BestR  0.8265177320977083\n",
      " \n",
      "Result1  -3.778428847555338 yuse  -0.10000000000000003 mchange  0.6 Bee  -0.14757751021347584 i(m)  6 j(y)  4 BestR  0.8265177320977083\n",
      " \n",
      "Result1  -2.7070658452263614 yuse  -0.10000000000000003 mchange  0.7 Bee  -0.14757751021347584 i(m)  7 j(y)  4 BestR  0.8265177320977083\n",
      " \n",
      "Result1  -1.7737407293180278 yuse  -0.10000000000000003 mchange  0.7999999999999999 Bee  -0.14757751021347584 i(m)  8 j(y)  4 BestR  0.8265177320977083\n",
      " \n",
      "Result1  -0.9784534998304659 yuse  -0.10000000000000003 mchange  0.8999999999999999 Bee  -0.14757751021347584 i(m)  9 j(y)  4 BestR  0.8265177320977083\n",
      " \n",
      "Result1  -0.3212041567637718 yuse  -0.10000000000000003 mchange  0.9999999999999999 Bee  -0.14757751021347584 i(m)  10 j(y)  4 BestR  0.8265177320977083\n",
      " \n",
      "Result1  0.19800729988229315 yuse  -0.10000000000000003 mchange  1.0999999999999999 Bee  -0.14757751021347584 i(m)  11 j(y)  4 BestR  0.8265177320977083\n",
      " \n",
      "Result1  0.5791808701076395 yuse  -0.10000000000000003 mchange  1.2 Bee  -0.14757751021347584 i(m)  12 j(y)  4 BestR  0.8265177320977083\n",
      " \n",
      "Result1  0.8223165539122154 yuse  -0.10000000000000003 mchange  1.3 Bee  -0.14757751021347584 i(m)  13 j(y)  4 BestR  0.8265177320977083\n",
      " \n",
      "Result1  0.927414351296061 yuse  -0.10000000000000003 mchange  1.4000000000000001 Bee  -0.14757751021347584 i(m)  14 j(y)  4 BestR  0.8265177320977083\n",
      "------Besttttttttttt\n",
      " \n",
      "Result1  0.8944742622591647 yuse  -0.10000000000000003 mchange  1.5000000000000002 Bee  -0.14757751021347584 i(m)  15 j(y)  4 BestR  0.927414351296061\n",
      " \n",
      "Result1  -6.493611292286078 yuse  -2.7755575615628914e-17 mchange  0.2 Bee  -0.04757751021347584 i(m)  2 j(y)  5 BestR  0.927414351296061\n",
      " \n"
     ]
    },
    {
     "name": "stdout",
     "output_type": "stream",
     "text": [
      "Result1  -5.126747199461952 yuse  -2.7755575615628914e-17 mchange  0.30000000000000004 Bee  -0.04757751021347584 i(m)  3 j(y)  5 BestR  0.927414351296061\n",
      " \n",
      "Result1  -3.897920993058171 yuse  -2.7755575615628914e-17 mchange  0.4 Bee  -0.04757751021347584 i(m)  4 j(y)  5 BestR  0.927414351296061\n",
      " \n",
      "Result1  -2.807132673075363 yuse  -2.7755575615628914e-17 mchange  0.5 Bee  -0.04757751021347584 i(m)  5 j(y)  5 BestR  0.927414351296061\n",
      " \n",
      "Result1  -1.85438223951338 yuse  -2.7755575615628914e-17 mchange  0.6 Bee  -0.04757751021347584 i(m)  6 j(y)  5 BestR  0.927414351296061\n",
      " \n",
      "Result1  -1.0396696923720294 yuse  -2.7755575615628914e-17 mchange  0.7 Bee  -0.04757751021347584 i(m)  7 j(y)  5 BestR  0.927414351296061\n",
      " \n",
      "Result1  -0.3629950316516477 yuse  -2.7755575615628914e-17 mchange  0.7999999999999999 Bee  -0.04757751021347584 i(m)  8 j(y)  5 BestR  0.927414351296061\n",
      " \n",
      "Result1  0.17564174264816745 yuse  -2.7755575615628914e-17 mchange  0.8999999999999999 Bee  -0.04757751021347584 i(m)  9 j(y)  5 BestR  0.927414351296061\n",
      " \n",
      "Result1  0.5762406305272265 yuse  -2.7755575615628914e-17 mchange  0.9999999999999999 Bee  -0.04757751021347584 i(m)  10 j(y)  5 BestR  0.927414351296061\n",
      " \n",
      "Result1  0.8388016319855605 yuse  -2.7755575615628914e-17 mchange  1.0999999999999999 Bee  -0.04757751021347584 i(m)  11 j(y)  5 BestR  0.927414351296061\n",
      " \n",
      "Result1  0.9633247470231415 yuse  -2.7755575615628914e-17 mchange  1.2 Bee  -0.04757751021347584 i(m)  12 j(y)  5 BestR  0.927414351296061\n",
      "------Besttttttttttt\n",
      " \n",
      "Result1  0.949809975639984 yuse  -2.7755575615628914e-17 mchange  1.3 Bee  -0.04757751021347584 i(m)  13 j(y)  5 BestR  0.9633247470231415\n",
      " \n",
      "Result1  -4.082399362032284 yuse  0.09999999999999998 mchange  0.2 Bee  0.05242248978652417 i(m)  2 j(y)  6 BestR  0.9633247470231415\n",
      " \n",
      "Result1  -2.972185724395848 yuse  0.09999999999999998 mchange  0.30000000000000004 Bee  0.05242248978652417 i(m)  3 j(y)  6 BestR  0.9633247470231415\n",
      " \n",
      "Result1  -2.0000099731800307 yuse  0.09999999999999998 mchange  0.4 Bee  0.05242248978652417 i(m)  4 j(y)  6 BestR  0.9633247470231415\n",
      " \n",
      "Result1  -1.165872108385123 yuse  0.09999999999999998 mchange  0.5 Bee  0.05242248978652417 i(m)  5 j(y)  6 BestR  0.9633247470231415\n",
      " \n",
      "Result1  -0.4697721300108142 yuse  0.09999999999999998 mchange  0.6 Bee  0.05242248978652417 i(m)  6 j(y)  6 BestR  0.9633247470231415\n",
      " \n",
      "Result1  0.08828996194278171 yuse  0.09999999999999998 mchange  0.7 Bee  0.05242248978652417 i(m)  7 j(y)  6 BestR  0.9633247470231415\n",
      " \n",
      "Result1  0.5083141674755446 yuse  0.09999999999999998 mchange  0.7999999999999999 Bee  0.05242248978652417 i(m)  8 j(y)  6 BestR  0.9633247470231415\n",
      " \n",
      "Result1  0.7903004865876249 yuse  0.09999999999999998 mchange  0.8999999999999999 Bee  0.05242248978652417 i(m)  9 j(y)  6 BestR  0.9633247470231415\n",
      " \n",
      "Result1  0.9342489192789534 yuse  0.09999999999999998 mchange  0.9999999999999999 Bee  0.05242248978652417 i(m)  10 j(y)  6 BestR  0.9633247470231415\n",
      " \n",
      "Result1  0.9401594655495337 yuse  0.09999999999999998 mchange  1.0999999999999999 Bee  0.05242248978652417 i(m)  11 j(y)  6 BestR  0.9633247470231415\n",
      " \n",
      "Result1  0.8080321253993683 yuse  0.09999999999999998 mchange  1.2 Bee  0.05242248978652417 i(m)  12 j(y)  6 BestR  0.9633247470231415\n",
      " \n",
      "Result1  -2.210623930317934 yuse  0.19999999999999998 mchange  0.2 Bee  0.15242248978652417 i(m)  2 j(y)  7 BestR  0.9633247470231415\n",
      " \n",
      "Result1  -1.3570607478691437 yuse  0.19999999999999998 mchange  0.30000000000000004 Bee  0.15242248978652417 i(m)  3 j(y)  7 BestR  0.9633247470231415\n",
      " \n",
      "Result1  -0.6415354518411902 yuse  0.19999999999999998 mchange  0.4 Bee  0.15242248978652417 i(m)  4 j(y)  7 BestR  0.9633247470231415\n",
      " \n",
      "Result1  -0.06404804223392735 yuse  0.19999999999999998 mchange  0.5 Bee  0.15242248978652417 i(m)  5 j(y)  7 BestR  0.9633247470231415\n",
      " \n",
      "Result1  0.37540148095264514 yuse  0.19999999999999998 mchange  0.6 Bee  0.15242248978652417 i(m)  6 j(y)  7 BestR  0.9633247470231415\n",
      " \n",
      "Result1  0.6768131177184322 yuse  0.19999999999999998 mchange  0.7 Bee  0.15242248978652417 i(m)  7 j(y)  7 BestR  0.9633247470231415\n",
      " \n",
      "Result1  0.8401868680634901 yuse  0.19999999999999998 mchange  0.7999999999999999 Bee  0.15242248978652417 i(m)  8 j(y)  7 BestR  0.9633247470231415\n",
      " \n",
      "Result1  0.8655227319878112 yuse  0.19999999999999998 mchange  0.8999999999999999 Bee  0.15242248978652417 i(m)  9 j(y)  7 BestR  0.9633247470231415\n",
      " \n",
      "Result1  0.7528207094913835 yuse  0.19999999999999998 mchange  0.9999999999999999 Bee  0.15242248978652417 i(m)  10 j(y)  7 BestR  0.9633247470231415\n",
      " \n",
      "Result1  -0.8782849971429703 yuse  0.3 mchange  0.2 Bee  0.25242248978652415 i(m)  2 j(y)  8 BestR  0.9633247470231415\n",
      " \n",
      "Result1  -0.28137226988185304 yuse  0.3 mchange  0.30000000000000004 Bee  0.25242248978652415 i(m)  3 j(y)  8 BestR  0.9633247470231415\n",
      " \n",
      "Result1  0.17750257095830824 yuse  0.3 mchange  0.4 Bee  0.25242248978652415 i(m)  4 j(y)  8 BestR  0.9633247470231415\n",
      " \n",
      "Result1  0.4983395253779499 yuse  0.3 mchange  0.5 Bee  0.25242248978652415 i(m)  5 j(y)  8 BestR  0.9633247470231415\n",
      " \n",
      "Result1  0.6811385933767711 yuse  0.3 mchange  0.6 Bee  0.25242248978652415 i(m)  6 j(y)  8 BestR  0.9633247470231415\n",
      " \n",
      "Result1  0.7258997749548475 yuse  0.3 mchange  0.7 Bee  0.25242248978652415 i(m)  7 j(y)  8 BestR  0.9633247470231415\n",
      " \n",
      "Result1  0.6326230701121349 yuse  0.3 mchange  0.7999999999999999 Bee  0.25242248978652415 i(m)  8 j(y)  8 BestR  0.9633247470231415\n",
      " \n",
      "Result1  -0.085382562507065 yuse  0.4 mchange  0.2 Bee  0.35242248978652424 i(m)  2 j(y)  9 BestR  0.9633247470231415\n",
      " \n",
      "Result1  0.2548797095662422 yuse  0.4 mchange  0.30000000000000004 Bee  0.35242248978652424 i(m)  3 j(y)  9 BestR  0.9633247470231415\n",
      " \n",
      "Result1  0.45710409521875717 yuse  0.4 mchange  0.4 Bee  0.35242248978652424 i(m)  4 j(y)  9 BestR  0.9633247470231415\n",
      " \n",
      "Result1  0.5212905944505719 yuse  0.4 mchange  0.5 Bee  0.35242248978652424 i(m)  5 j(y)  9 BestR  0.9633247470231415\n",
      " \n",
      "Result1  0.4474392072616037 yuse  0.4 mchange  0.6 Bee  0.35242248978652424 i(m)  6 j(y)  9 BestR  0.9633247470231415\n",
      " \n",
      "Result1  0.1680833735894498 yuse  0.5 mchange  0.2 Bee  0.4524224897865242 i(m)  2 j(y)  10 BestR  0.9633247470231415\n",
      " \n",
      "Result1  0.25169519047500544 yuse  0.5 mchange  0.30000000000000004 Bee  0.4524224897865242 i(m)  3 j(y)  10 BestR  0.9633247470231415\n",
      " \n",
      "Result1  0.19726912093978066 yuse  0.5 mchange  0.4 Bee  0.4524224897865242 i(m)  4 j(y)  10 BestR  0.9633247470231415\n",
      " \n",
      "Result1  -0.11788718885327731 yuse  0.6 mchange  0.2 Bee  0.5524224897865242 i(m)  2 j(y)  11 BestR  0.9633247470231415\n",
      " \n",
      "Result1  -0.29092582715549975 yuse  0.6 mchange  0.30000000000000004 Bee  0.5524224897865242 i(m)  3 j(y)  11 BestR  0.9633247470231415\n",
      " \n",
      "Result1  -0.9432942498352301 yuse  0.7 mchange  0.2 Bee  0.6524224897865242 i(m)  2 j(y)  12 BestR  0.9633247470231415\n",
      " \n",
      "Result1  -1.3729833433251435 yuse  0.7 mchange  0.30000000000000004 Bee  0.6524224897865242 i(m)  3 j(y)  12 BestR  0.9633247470231415\n",
      " \n",
      "Result1  -2.3081378093564453 yuse  0.7999999999999999 mchange  0.2 Bee  0.7524224897865242 i(m)  2 j(y)  13 BestR  0.9633247470231415\n",
      " \n",
      "Result1  -2.9944773580339055 yuse  0.7999999999999999 mchange  0.30000000000000004 Bee  0.7524224897865242 i(m)  3 j(y)  13 BestR  0.9633247470231415\n",
      " \n",
      "Result1  -4.212417867417152 yuse  0.8999999999999999 mchange  0.2 Bee  0.8524224897865241 i(m)  2 j(y)  14 BestR  0.9633247470231415\n",
      " \n",
      "Result1  -5.155407871282456 yuse  0.8999999999999999 mchange  0.30000000000000004 Bee  0.8524224897865241 i(m)  3 j(y)  14 BestR  0.9633247470231415\n",
      " \n",
      "Result1  -6.656134424017166 yuse  0.9999999999999999 mchange  0.2 Bee  0.9524224897865241 i(m)  2 j(y)  15 BestR  0.9633247470231415\n",
      " \n",
      "Result1  -7.85577488306971 yuse  0.9999999999999999 mchange  0.30000000000000004 Bee  0.9524224897865241 i(m)  3 j(y)  15 BestR  0.9633247470231415\n",
      " \n",
      "Result1  -9.63928747915666 yuse  1.0999999999999999 mchange  0.2 Bee  1.052422489786524 i(m)  2 j(y)  16 BestR  0.9633247470231415\n",
      " \n",
      "Result1  -11.095578393396632 yuse  1.0999999999999999 mchange  0.30000000000000004 Bee  1.052422489786524 i(m)  3 j(y)  16 BestR  0.9633247470231415\n",
      " \n",
      "Result1  -13.16187703283452 yuse  1.2 mchange  0.2 Bee  1.152422489786524 i(m)  2 j(y)  17 BestR  0.9633247470231415\n",
      " \n",
      "Result1  -14.874818402262973 yuse  1.2 mchange  0.30000000000000004 Bee  1.152422489786524 i(m)  3 j(y)  17 BestR  0.9633247470231415\n",
      " \n",
      "Result1  -17.22390308505191 yuse  1.3 mchange  0.2 Bee  1.2524224897865242 i(m)  2 j(y)  18 BestR  0.9633247470231415\n",
      " \n",
      "Result1  -19.19349490966723 yuse  1.3 mchange  0.30000000000000004 Bee  1.2524224897865242 i(m)  3 j(y)  18 BestR  0.9633247470231415\n",
      " \n",
      "Result1  -21.82536563580792 yuse  1.4000000000000001 mchange  0.2 Bee  1.3524224897865242 i(m)  2 j(y)  19 BestR  0.9633247470231415\n",
      " \n",
      "Result1  -24.05160791561126 yuse  1.4000000000000001 mchange  0.30000000000000004 Bee  1.3524224897865242 i(m)  3 j(y)  19 BestR  0.9633247470231415\n",
      " \n"
     ]
    },
    {
     "name": "stdout",
     "output_type": "stream",
     "text": [
      "Result1  -26.966264685105003 yuse  1.5000000000000002 mchange  0.2 Bee  1.4524224897865243 i(m)  2 j(y)  20 BestR  0.9633247470231415\n",
      " \n",
      "Result1  -29.44915742009651 yuse  1.5000000000000002 mchange  0.30000000000000004 Bee  1.4524224897865243 i(m)  3 j(y)  20 BestR  0.9633247470231415\n",
      " \n",
      "Result1  -32.64660023294236 yuse  1.6000000000000003 mchange  0.2 Bee  1.5524224897865244 i(m)  2 j(y)  21 BestR  0.9633247470231415\n",
      " \n",
      "Result1  -35.386143423120075 yuse  1.6000000000000003 mchange  0.30000000000000004 Bee  1.5524224897865244 i(m)  3 j(y)  21 BestR  0.9633247470231415\n",
      " \n",
      "Result1  -38.86637227931746 yuse  1.7000000000000004 mchange  0.2 Bee  1.6524224897865245 i(m)  2 j(y)  22 BestR  0.9633247470231415\n",
      " \n",
      "Result1  -41.8625659246838 yuse  1.7000000000000004 mchange  0.30000000000000004 Bee  1.6524224897865245 i(m)  3 j(y)  22 BestR  0.9633247470231415\n",
      " \n",
      "Result1  -45.62558082422599 yuse  1.8000000000000005 mchange  0.2 Bee  1.7524224897865246 i(m)  2 j(y)  23 BestR  0.9633247470231415\n",
      " \n",
      "Result1  -48.87842492478527 yuse  1.8000000000000005 mchange  0.30000000000000004 Bee  1.7524224897865246 i(m)  3 j(y)  23 BestR  0.9633247470231415\n",
      " \n",
      "Result1  -52.9242258676825 yuse  1.9000000000000006 mchange  0.2 Bee  1.8524224897865247 i(m)  2 j(y)  24 BestR  0.9633247470231415\n",
      " \n",
      "Result1  -56.43372042342537 yuse  1.9000000000000006 mchange  0.30000000000000004 Bee  1.8524224897865247 i(m)  3 j(y)  24 BestR  0.9633247470231415\n",
      " \n",
      "Result1  -60.762307409673355 yuse  2.0000000000000004 mchange  0.2 Bee  1.9524224897865246 i(m)  2 j(y)  25 BestR  0.9633247470231415\n",
      " \n",
      "Result1  -64.5284524206085 yuse  2.0000000000000004 mchange  0.30000000000000004 Bee  1.9524224897865246 i(m)  3 j(y)  25 BestR  0.9633247470231415\n",
      " \n",
      "Result1  -69.13982545021028 yuse  2.1000000000000005 mchange  0.2 Bee  2.0524224897865246 i(m)  2 j(y)  26 BestR  0.9633247470231415\n",
      " \n",
      "Result1  -73.16262091632578 yuse  2.1000000000000005 mchange  0.30000000000000004 Bee  2.0524224897865246 i(m)  3 j(y)  26 BestR  0.9633247470231415\n",
      "The END\n"
     ]
    }
   ],
   "source": [
    "\n",
    "### Run from here\n",
    "BestR = -10000000\n",
    "Bestm = 0\n",
    "BestB = 0\n",
    "Besti = 0\n",
    "Bestj = 0\n",
    "Previous_RMAX = -10000000\n",
    "\n",
    "yuse = ystart\n",
    "RList =[]\n",
    "MLidt =[]\n",
    "NewList =[]\n",
    "ind =[]\n",
    "totrunthrough = 0\n",
    "j = 0\n",
    "NotChangeY = True\n",
    "Old_R = Previous_RMAX \n",
    "\n",
    "while NotChangeY: #j <20: #ChangeY == False: # moving the y start up and down \n",
    "    j += 1\n",
    "    Old_R = -1000 ######\n",
    "    if yuse > ytoofar:\n",
    "        NotChangeY = False        \n",
    "    yuse = yuse + yaddfactor\n",
    "    mchange = minitial\n",
    "    Bee = CalculateBNil (mchange,yuse, xmean)   \n",
    "    i=1\n",
    "    NotChangeM = True\n",
    "    StopDuetoR = False\n",
    "    while  NotChangeM: #i<20: #ChangeM == False: # moving the m around \n",
    "\n",
    "        i += 1\n",
    "        totrunthrough += 1\n",
    "        Tresult = calculateRsquaredB (datatouse,X, Y,Bee, mchange)\n",
    "        Result1 = float(Tresult)\n",
    "        mchange = mchange + maddfactor\n",
    "        \n",
    "        # beginning of R calculaitons\n",
    "        StopDuetoR = StopBecauseR (Old_R, Result1) # beginning of R calculaitons\n",
    "        Old_R = Result1\n",
    "        if StopDuetoR:\n",
    "            NotChangeM = False\n",
    "            Old_R = Previous_RMAX \n",
    "        if mchange > mtoofar:\n",
    "            NotChangeM = False\n",
    "        # end of R Calculaitons\n",
    "        print(\" \")\n",
    "        print(\"Result1 \",Result1, \"yuse \",yuse,  \"mchange \",mchange,\"Bee \",Bee, \"i(m) \",i, \"j(y) \",j, \"BestR \",BestR )\n",
    "        if Result1 > BestR:\n",
    "            print(\"------Besttttttttttt\")\n",
    "            BestR = Result1\n",
    "            Bestb = Bee\n",
    "            Bestm = mchange\n",
    "            BestB = Bee\n",
    "            Besty= yuse\n",
    "            Besti = i\n",
    "            Bestj = j\n",
    "\n",
    "\n",
    "print(\"The END\")\n",
    "\n",
    "\n",
    "       "
   ]
  },
  {
   "cell_type": "code",
   "execution_count": 11,
   "metadata": {},
   "outputs": [
    {
     "name": "stdout",
     "output_type": "stream",
     "text": [
      "ALEX REGRESSION - RESULTS\n",
      " \n",
      "Iterations ran through  147\n",
      "BestR  0.9633247470231415\n",
      "Bestm  1.2\n",
      "Bee  2.0524224897865246\n",
      "Cross Y axis  -0.04757751021347584\n",
      "  \n"
     ]
    },
    {
     "data": {
      "image/png": "[encoded data removed]",
      "text/plain": [
       "<Figure size 432x288 with 1 Axes>"
      ]
     },
     "metadata": {
      "needs_background": "light"
     },
     "output_type": "display_data"
    }
   ],
   "source": [
    "print(\"ALEX REGRESSION - RESULTS\")\n",
    "print(\" \")\n",
    "print(\"Iterations ran through \", totrunthrough)\n",
    "print(\"BestR \",BestR)\n",
    "print(\"Bestm \",Bestm)\n",
    "print(\"Bee \",Bee)\n",
    "print(\"Cross Y axis \",BestB)\n",
    "print(\"  \")\n",
    "\n",
    "printline=[]\n",
    "for a in range(len(bikes)):\n",
    "    printline = (Bestm * X) + BestB \n",
    "    \n",
    "plt.plot(X,printline, color='r')\n",
    "plt.scatter(X, Y) \n",
    "plt.show()\n"
   ]
  },
  {
   "cell_type": "markdown",
   "metadata": {},
   "source": [
    "EXTRA FROM https://ml-cheatsheet.readthedocs.io/en/latest/gradient_descent.html"
   ]
  },
  {
   "cell_type": "code",
   "execution_count": 12,
   "metadata": {},
   "outputs": [],
   "source": [
    "def update_weights(m, b, X, Y, learning_rate):\n",
    "    m_deriv = 0\n",
    "    b_deriv = 0\n",
    "    N = len(X)\n",
    "    count=0\n",
    "    for i in range(N):\n",
    "        # Calculate partial derivatives\n",
    "        # -2x(y - (mx + b))\n",
    "        m_deriv += -2*X[i] * (Y[i] - (m*X[i] + b))\n",
    "\n",
    "        # -2(y - (mx + b))\n",
    "        b_deriv += -2*(Y[i] - (m*X[i] + b))\n",
    "        count +=1\n",
    "\n",
    "    # We subtract because the derivatives point in direction of steepest ascent\n",
    "    m -= (m_deriv / float(N)) * learning_rate\n",
    "    b -= (b_deriv / float(N)) * learning_rate\n",
    "\n",
    "    return m, b, count"
   ]
  },
  {
   "cell_type": "code",
   "execution_count": null,
   "metadata": {},
   "outputs": [],
   "source": []
  },
  {
   "cell_type": "code",
   "execution_count": 13,
   "metadata": {},
   "outputs": [],
   "source": [
    "m = Bestm*0.5\n",
    "b  = BestB*0.5\n",
    "learning_rate = 1"
   ]
  },
  {
   "cell_type": "code",
   "execution_count": 14,
   "metadata": {},
   "outputs": [],
   "source": [
    "updated_weights_result = update_weights(m, b, X, Y, learning_rate)"
   ]
  },
  {
   "cell_type": "code",
   "execution_count": 15,
   "metadata": {},
   "outputs": [
    {
     "name": "stdout",
     "output_type": "stream",
     "text": [
      "M : mine is  1.2  From UW is  0.8538351251796646\n",
      "B : mine is  -0.04757751021347584  From UW is  0.4468329693883324\n",
      "Number of iterations : mine is  147  From UW is  17379\n"
     ]
    }
   ],
   "source": [
    "print(\"M : mine is \", Bestm , \" From UW is \",updated_weights_result[0])\n",
    "print(\"B : mine is \", Bestb , \" From UW is \",updated_weights_result[1])\n",
    "print(\"Number of iterations : mine is \", totrunthrough , \" From UW is \",updated_weights_result[2])"
   ]
  },
  {
   "cell_type": "code",
   "execution_count": 16,
   "metadata": {},
   "outputs": [],
   "source": [
    "m = Bestm\n",
    "b  = BestB\n",
    "learning_rate = 1"
   ]
  },
  {
   "cell_type": "code",
   "execution_count": 17,
   "metadata": {},
   "outputs": [],
   "source": [
    "updated_weights_result = update_weights(m, b, X, Y, learning_rate)"
   ]
  },
  {
   "cell_type": "code",
   "execution_count": 18,
   "metadata": {},
   "outputs": [
    {
     "name": "stdout",
     "output_type": "stream",
     "text": [
      "M : mine is  1.2  From UW is  1.1694000258354713\n",
      "B : mine is  -0.04757751021347584  From UW is  -0.10030839806663226\n",
      "Number of iterations : mine is  147  From UW is  17379\n"
     ]
    }
   ],
   "source": [
    "print(\"M : mine is \", Bestm , \" From UW is \",updated_weights_result[0])\n",
    "print(\"B : mine is \", Bestb , \" From UW is \",updated_weights_result[1])\n",
    "print(\"Number of iterations : mine is \", totrunthrough , \" From UW is \",updated_weights_result[2])"
   ]
  },
  {
   "cell_type": "markdown",
   "metadata": {},
   "source": [
    "From above - changing m and B does not change the results"
   ]
  },
  {
   "cell_type": "code",
   "execution_count": 19,
   "metadata": {},
   "outputs": [],
   "source": [
    "m = Bestm\n",
    "b  = BestB\n",
    "learning_rate = 2"
   ]
  },
  {
   "cell_type": "code",
   "execution_count": 20,
   "metadata": {},
   "outputs": [],
   "source": [
    "updated_weights_result = update_weights(m, b, X, Y, learning_rate)"
   ]
  },
  {
   "cell_type": "code",
   "execution_count": 21,
   "metadata": {},
   "outputs": [
    {
     "name": "stdout",
     "output_type": "stream",
     "text": [
      "M : mine is  1.2  From UW is  1.1388000516709424\n",
      "B : mine is  -0.04757751021347584  From UW is  -0.1530392859197887\n",
      "Number of iterations : mine is  147  From UW is  17379\n"
     ]
    }
   ],
   "source": [
    "print(\"M : mine is \", Bestm , \" From UW is \",updated_weights_result[0])\n",
    "print(\"B : mine is \", Bestb , \" From UW is \",updated_weights_result[1])\n",
    "print(\"Number of iterations : mine is \", totrunthrough , \" From UW is \",updated_weights_result[2])"
   ]
  },
  {
   "cell_type": "code",
   "execution_count": 22,
   "metadata": {},
   "outputs": [],
   "source": [
    "m = Bestm\n",
    "b  = BestB\n",
    "learning_rate = 0.001"
   ]
  },
  {
   "cell_type": "code",
   "execution_count": 23,
   "metadata": {},
   "outputs": [],
   "source": [
    "updated_weights_result = update_weights(m, b, X, Y, learning_rate)"
   ]
  },
  {
   "cell_type": "code",
   "execution_count": 24,
   "metadata": {},
   "outputs": [
    {
     "name": "stdout",
     "output_type": "stream",
     "text": [
      "M : mine is  1.2  From UW is  1.1999694000258354\n",
      "B : mine is  -0.04757751021347584  From UW is  -0.047630241101329\n",
      "Number of iterations : mine is  147  From UW is  17379\n"
     ]
    }
   ],
   "source": [
    "print(\"M : mine is \", Bestm , \" From UW is \",updated_weights_result[0])\n",
    "print(\"B : mine is \", Bestb , \" From UW is \",updated_weights_result[1])\n",
    "print(\"Number of iterations : mine is \", totrunthrough , \" From UW is \",updated_weights_result[2])"
   ]
  },
  {
   "cell_type": "code",
   "execution_count": 25,
   "metadata": {},
   "outputs": [],
   "source": [
    "m = Bestm #*0.5\n",
    "b  = BestB#*0.5\n",
    "learning_rate = 0.01"
   ]
  },
  {
   "cell_type": "code",
   "execution_count": 43,
   "metadata": {},
   "outputs": [],
   "source": [
    "def update_weights_play(m, b, X, Y, learning_rate):\n",
    "    m_deriv = 0\n",
    "    b_deriv = 0\n",
    "    N = 1000 #len(X)\n",
    "    count=0\n",
    "    oldm = m\n",
    "    oldb= b\n",
    "    oldchangem = m\n",
    "    for i in range(N):\n",
    "        # Calculate partial derivatives\n",
    "        # -2x(y - (mx + b))\n",
    "        m_deriv += -2*X[i] * (Y[i] - (m*X[i] + b))\n",
    "\n",
    "        # -2(y - (mx + b))\n",
    "        b_deriv += -2*(Y[i] - (m*X[i] + b))\n",
    "        count +=1\n",
    "         \n",
    "        changem = oldm - m_deriv\n",
    "        changeb = oldb - b_deriv\n",
    "        #print(count,\"m : \",\"%.4f\" % m_deriv,\"b \",\"%.4f\" % b_deriv, \"X \",\"%.4f\" % X[i], \" Y \" ,  Y[i], \"changem\", \"%.4f\" % changem, \"changeb\", \"%.4f\" %changeb)\n",
    "        \n",
    "        #print(count,\"m : \",m_deriv,\"b \", b_deriv, \"X \", X[i], \" Y \" ,  Y[i])\n",
    "        \n",
    "        #if ((oldchangem > 0)  & (changem < 0) or (oldchangem < 0)  & (changem > 0) ) :\n",
    "       \n",
    "            #print(\"M changed direction\")\n",
    "        oldm = m_deriv\n",
    "        oldb = b_deriv\n",
    "        oldchangem = changem\n",
    "    # We subtract because the derivatives point in direction of steepest ascent\n",
    "    m -= (m_deriv / float(N)) * learning_rate\n",
    "    b -= (b_deriv / float(N)) * learning_rate\n",
    "    #print(\"AAAA\")\n",
    "    \n",
    "    return m, b, count\n",
    "    \n"
   ]
  },
  {
   "cell_type": "code",
   "execution_count": 44,
   "metadata": {},
   "outputs": [
    {
     "name": "stdout",
     "output_type": "stream",
     "text": [
      "(0.7996358763870929, 0.035708238958777255, 1000)\n"
     ]
    }
   ],
   "source": [
    "updated_weights_result_play = update_weights_play(m, b, X, Y, learning_rate)\n",
    "print(updated_weights_result_play)"
   ]
  },
  {
   "cell_type": "code",
   "execution_count": 45,
   "metadata": {},
   "outputs": [
    {
     "name": "stdout",
     "output_type": "stream",
     "text": [
      "M : mine is  1.2  From UW is  0.7996358763870929\n",
      "B : mine is  -0.04757751021347584  From UW is  0.035708238958777255\n",
      "Number of iterations : mine is  147  From UW is  1000\n"
     ]
    }
   ],
   "source": [
    "print(\"M : mine is \", Bestm , \" From UW is \",updated_weights_result_play[0])\n",
    "print(\"B : mine is \", Bestb , \" From UW is \",updated_weights_result_play[1])\n",
    "print(\"Number of iterations : mine is \", totrunthrough , \" From UW is \",updated_weights_result_play[2])"
   ]
  },
  {
   "cell_type": "code",
   "execution_count": null,
   "metadata": {},
   "outputs": [],
   "source": []
  },
  {
   "cell_type": "code",
   "execution_count": 50,
   "metadata": {},
   "outputs": [
    {
     "name": "stdout",
     "output_type": "stream",
     "text": [
      "M : mine is  1.2\n",
      "B : mine is  -0.04757751021347584\n",
      "m is  0.78509264712 b is  -0.007165599999999106\n",
      "m is  0.7947589215637199 b is  0.034044827677210086\n",
      "m is  0.7959435673470923 b is  0.03608553021122512\n",
      "m is  0.7966483509291141 b is  0.03625048544863246\n",
      "m is  0.7972358093462626 b is  0.03619219468479893\n",
      "m is  0.7977540109525871 b is  0.03610024314229293\n",
      "m is  0.7982166373747681 b is  0.03600767667540802\n",
      "m is  0.7986310517083087 b is  0.03592149549096791\n",
      "m is  0.7990027520808977 b is  0.035843021446937434\n",
      "m is  0.799336352227638 b is  0.03577211488869398\n",
      " \n",
      " \n",
      "ITERABLE REGRESSION - RESULTS\n",
      " \n",
      "m  0.799336352227638\n",
      "b  0.03577211488869398\n",
      "  \n"
     ]
    },
    {
     "data": {
      "image/png": "[encoded data removed]",
      "text/plain": [
       "<Figure size 432x288 with 1 Axes>"
      ]
     },
     "metadata": {
      "needs_background": "light"
     },
     "output_type": "display_data"
    }
   ],
   "source": [
    "learning_rate = 0.5\n",
    "m = 1\n",
    "b = 1\n",
    "print(\"M : mine is \", Bestm )\n",
    "print(\"B : mine is \", Bestb )\n",
    "\n",
    "for i in range(10):\n",
    "    updated_weights_result_play = update_weights_play(m, b, X, Y, learning_rate)\n",
    "    m = updated_weights_result_play[0]\n",
    "    b = updated_weights_result_play[1]\n",
    "    learning_rate = learning_rate * 0.9\n",
    "    print(\"m is \",m, \"b is \",b)\n",
    "\n",
    "print(\" \")\n",
    "print(\" \")\n",
    "print(\"ITERABLE REGRESSION - RESULTS\")\n",
    "print(\" \")\n",
    "print(\"m \",m)\n",
    "print(\"b \",b)\n",
    "print(\"  \")\n",
    "\n",
    "printline=[]\n",
    "for a in range(len(bikes)):\n",
    "    printline = (m * X) + b \n",
    "    \n",
    "plt.plot(X,printline, color='r')\n",
    "plt.scatter(X, Y) \n",
    "plt.show()"
   ]
  },
  {
   "cell_type": "code",
   "execution_count": 51,
   "metadata": {},
   "outputs": [
    {
     "name": "stdout",
     "output_type": "stream",
     "text": [
      "ALEX REGRESSION - RESULTS\n",
      " \n",
      "Iterations ran through  147\n",
      "BestR  0.9633247470231415\n",
      "Bestm  1.2\n",
      "Bee  2.0524224897865246\n",
      "Cross Y axis  -0.04757751021347584\n",
      "  \n"
     ]
    },
    {
     "data": {
      "image/png": "[encoded data removed]",
      "text/plain": [
       "<Figure size 432x288 with 1 Axes>"
      ]
     },
     "metadata": {
      "needs_background": "light"
     },
     "output_type": "display_data"
    }
   ],
   "source": [
    "print(\"ALEX REGRESSION - RESULTS\")\n",
    "print(\" \")\n",
    "print(\"Iterations ran through \", totrunthrough)\n",
    "print(\"BestR \",BestR)\n",
    "print(\"Bestm \",Bestm)\n",
    "print(\"Bee \",Bee)\n",
    "print(\"Cross Y axis \",BestB)\n",
    "print(\"  \")\n",
    "\n",
    "printline=[]\n",
    "for a in range(len(bikes)):\n",
    "    printline = (Bestm * X) + BestB \n",
    "    \n",
    "plt.plot(X,printline, color='r')\n",
    "plt.scatter(X, Y) \n",
    "plt.show()"
   ]
  },
  {
   "cell_type": "code",
   "execution_count": null,
   "metadata": {},
   "outputs": [],
   "source": []
  }
 ],
 "metadata": {
  "colab": {
   "collapsed_sections": [],
   "name": "IOD_Lab 4.1.1.ipynb",
   "provenance": []
  },
  "kernelspec": {
   "display_name": "Python 3",
   "language": "python",
   "name": "python3"
  },
  "language_info": {
   "codemirror_mode": {
    "name": "ipython",
    "version": 3
   },
   "file_extension": ".py",
   "mimetype": "text/x-python",
   "name": "python",
   "nbconvert_exporter": "python",
   "pygments_lexer": "ipython3",
   "version": "3.7.6"
  }
 },
 "nbformat": 4,
 "nbformat_minor": 1
}
